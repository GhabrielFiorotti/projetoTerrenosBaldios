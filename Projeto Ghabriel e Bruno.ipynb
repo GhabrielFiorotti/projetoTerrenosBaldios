{
  "cells": [
    {
      "metadata": {},
      "cell_type": "markdown",
      "source": "# Problema dos terrenos baldios"
    },
    {
      "metadata": {
        "collapsed": true
      },
      "cell_type": "markdown",
      "source": "## Fase 1 do projeto: Modelagem do problema\nJuntando informações, e fazendo o levantamento das ideias propostas, chegamos a algumas conclusões. A partir de um brainstorming, conseguimos detectar alguns problemas. Dentre todas propostas, a que mais teve relevância foi a de melhoria dos bairros, no sentido de criar mecanismos para ajudar a comunidade a denunciar as irregularidades, lixos e endemias."
    },
    {
      "metadata": {
        "trusted": true
      },
      "cell_type": "markdown",
      "source": "### Nestas imagens há a representação de um terreno baldio que está abrigando tipo de lixos diversos."
    },
    {
      "metadata": {},
      "cell_type": "markdown",
      "source": "<img src='img1.jpg' width='200' weight='266'> "
    },
    {
      "metadata": {},
      "cell_type": "markdown",
      "source": "<img src='img2.jpg' width='200' weight='266'> "
    },
    {
      "metadata": {},
      "cell_type": "markdown",
      "source": "## Fase 2: Escopo do problema sobre terrenos baldios"
    },
    {
      "metadata": {},
      "cell_type": "markdown",
      "source": "Como solução a problemática proposta, apontamos a seguinte opção:\n* Um software que auxilia a comunidade local, no recolhimento de informaçõoes do terreno abandonado, tais como: envio de fotos, vídeos, localização geográfica e etc."
    },
    {
      "metadata": {
        "trusted": true
      },
      "cell_type": "markdown",
      "source": "## Fase 3: Identificação de formas de solucionar"
    },
    {
      "metadata": {
        "trusted": true
      },
      "cell_type": "code",
      "source": "dic = {} \n\nproblemas = []\n\ncontinuar = True\ncontSerra = 0\ncontVitoria = 0\ncontVilaVelha = 0\nContLinhares = 0\ncontOutros = 0\n\nwhile continuar == True:\n\n    município = int (input(\"Reside em algum desses municípios? Digite o número: 1 - Serra, 2 - Vitoria, 3 - Vila Velha, 4 - Linhares \"))\n    endereço = input(\"Digite o local detalhado da reclamação? \")\n    proble = input(\"Qual o problema que lhe afeta nesse local? \")\n    imagem = input (\"Como referência, possui algum arquivo em formato de imagem ou vídeo para anexar? \").upper()\n    \n    problemas.append(proble)\n    \n    if município == 1:\n        contSerra += 1\n    elif município == 1:\n        contVitoria += 1\n    elif município == 1:\n        contVilaVelha += 1\n    elif município == 1:\n        contLinhares += 1\n    else:\n        contOutros += 1\n\n    dic[endereço]= proble\n\n    conti = input (\"Deseja realizar outro pedido \").upper()\n    \n    if conti == \"SIM\" or conti == \"S\":\n        continuar = True\n    else:\n        continuar = False",
      "execution_count": 18,
      "outputs": [
        {
          "output_type": "stream",
          "name": "stdout",
          "text": "Reside em algum desses municípios? Digite o número: 1 - Serra, 2 - Vitoria, 3 - Vila Velha, 4 - Linhares 2\nDigite o local detalhado da reclamação? Laranjeiras\nQual o problema que lhe afeta nesse local? Lixo\nComo referência, possui algum arquivo em formato de imagem ou vídeo para anexar? Não\nDeseja realizar outro pedido Sim\nReside em algum desses municípios? Digite o número: 1 - Serra, 2 - Vitoria, 3 - Vila Velha, 4 - Linhares 2\nDigite o local detalhado da reclamação? Jardim Cam\nQual o problema que lhe afeta nesse local? Esgoto\nComo referência, possui algum arquivo em formato de imagem ou vídeo para anexar? Não\nDeseja realizar outro pedido N\n"
        }
      ]
    },
    {
      "metadata": {
        "trusted": true
      },
      "cell_type": "code",
      "source": "dic",
      "execution_count": 19,
      "outputs": [
        {
          "output_type": "execute_result",
          "execution_count": 19,
          "data": {
            "text/plain": "{'Laranjeiras': ['Lixo'], 'Jardim Cam': ['Esgoto']}"
          },
          "metadata": {}
        }
      ]
    },
    {
      "metadata": {
        "trusted": true
      },
      "cell_type": "code",
      "source": "problema",
      "execution_count": 20,
      "outputs": [
        {
          "output_type": "execute_result",
          "execution_count": 20,
          "data": {
            "text/plain": "['Esgoto']"
          },
          "metadata": {}
        }
      ]
    },
    {
      "metadata": {
        "trusted": true
      },
      "cell_type": "code",
      "source": "contVitoria\n",
      "execution_count": 5,
      "outputs": [
        {
          "output_type": "execute_result",
          "execution_count": 5,
          "data": {
            "text/plain": "0"
          },
          "metadata": {}
        }
      ]
    },
    {
      "metadata": {
        "trusted": true
      },
      "cell_type": "code",
      "source": "",
      "execution_count": null,
      "outputs": []
    }
  ],
  "metadata": {
    "kernelspec": {
      "name": "python36",
      "display_name": "Python 3.6",
      "language": "python"
    },
    "language_info": {
      "mimetype": "text/x-python",
      "nbconvert_exporter": "python",
      "name": "python",
      "pygments_lexer": "ipython3",
      "version": "3.6.6",
      "file_extension": ".py",
      "codemirror_mode": {
        "version": 3,
        "name": "ipython"
      }
    }
  },
  "nbformat": 4,
  "nbformat_minor": 2
}
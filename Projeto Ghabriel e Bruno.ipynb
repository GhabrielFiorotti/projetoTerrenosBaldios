{
  "cells": [
    {
      "metadata": {},
      "cell_type": "markdown",
      "source": "# Problema dos terrenos baldios"
    },
    {
      "metadata": {
        "collapsed": true
      },
      "cell_type": "markdown",
      "source": "## Fase 1 do projeto: Modelagem do problema\nJuntando informações, e fazendo o levantamento das ideias propostas, chegamos a algumas conclusões. A partir de um brainstorming, conseguimos detectar alguns problemas. Dentre todas propostas, a que mais teve relevância foi a de melhoria dos bairros, no sentido de criar mecanismos para ajudar a comunidade a denunciar as irregularidades, lixos e endemias."
    },
    {
      "metadata": {
        "trusted": true
      },
      "cell_type": "markdown",
      "source": "### Nestas imagens há a representação de um terreno baldio que está abrigando tipo de lixos diversos."
    },
    {
      "metadata": {},
      "cell_type": "markdown",
      "source": "<img src='img1.jpg' width='200' weight='266'> "
    },
    {
      "metadata": {},
      "cell_type": "markdown",
      "source": "<img src='img2.jpg' width='200' weight='266'> "
    },
    {
      "metadata": {},
      "cell_type": "markdown",
      "source": "## Fase 2: Escopo do problema sobre terrenos baldios"
    },
    {
      "metadata": {},
      "cell_type": "markdown",
      "source": "Como solução a problemática proposta, apontamos a seguinte opção:\n* Um software que auxilia a comunidade local, no recolhimento de informaçõoes do terreno abandonado, tais como: envio de fotos, vídeos, localização geográfica e etc."
    },
    {
      "metadata": {
        "trusted": true
      },
      "cell_type": "markdown",
      "source": "## Fase 3: Identificação de formas de solucionar"
    },
    {
      "metadata": {},
      "cell_type": "markdown",
      "source": "#### Primeiramente criamos um dicionário e uma lista para armazenar dados provenientes dos usuários"
    },
    {
      "metadata": {
        "trusted": true
      },
      "cell_type": "code",
      "source": "dic = {} \n\nproblemas = []",
      "execution_count": 4,
      "outputs": []
    },
    {
      "metadata": {},
      "cell_type": "markdown",
      "source": "#### O próximo passo foi a criação de uma verificação se o usuário deseja realizar outro pedido ou não, e um diconário das cidades do Espírito Santo com o seguinte contador  de pedidos."
    },
    {
      "metadata": {
        "trusted": true
      },
      "cell_type": "code",
      "source": "continuar = True\n\nbairros = {'Feu Rosa':0, 'Vila Nova de Colares':0, 'Planalto Serrano':0, 'Novo Horizonte':0, 'Jardim Carapina':0, 'Bairro das Laaranjeiras':0, 'Barcelona':0, 'Carapina Grande':0,  'Cidade Continental':0, 'Nova Carapina I':0, 'Parque Residencial Laranjeiras':0, 'Eldorado':0, 'Jardim Tropical':0, 'Nova Carapina II':0, 'Serra Dourada II':0, 'Serra(demais setores)':0, 'Jardim Limoeira':0, 'Vista de Serra I':0, 'José de Anchieta':0, 'Central Carapina':0, 'André Carlone':0, 'Valparaíso':0, 'São Marcos':0, 'Praia de Carapebus':0, 'Morada de Laranjeiras':0, 'Serra Dourada III':0, 'Cidade Pomar':0, 'Laranjeiras Velha':0, 'Novo Porto Canoa':0,'Taquara I':0,'Balneário de Carapebus':0, 'Residencial Jacaraípe':0, 'Cantinho de Céu':0, 'Serra Dourada I':0, 'Jardim Bela Vista':0, 'Parque das Gaivotas':0, 'José de Anchieta II':0, 'Parque Residencial Tubarão':0,'Vista de Serra II':0,'Porto Canoa':0, 'Parque Jacaraípe':0, 'Fazenda Cascata':0, 'Manoel Plaza':0, 'Conjunto Jacaraípe':0, 'Jardim Atlântico':0, 'São Diogo I':0, 'Serramaar':0,'Santa Luzia':0}",
      "execution_count": 1,
      "outputs": []
    },
    {
      "metadata": {
        "trusted": true
      },
      "cell_type": "code",
      "source": "",
      "execution_count": null,
      "outputs": []
    },
    {
      "metadata": {
        "trusted": true
      },
      "cell_type": "code",
      "source": "while continuar == True:\n\n    município = input(\"Digite corretamente o nome do seu município: \").upper()\n    endereço = input(\"Digite o local detalhado da reclamação? \")\n    proble = input(\"Qual o problema que lhe afeta nesse local? \")\n    imagem = input (\"Como referência, possui algum arquivo em formato de imagem ou vídeo para anexar? \").upper()\n    \n    problemas.append(proble)\n    cidades[município] +=1\n    dic[endereço]= proble\n\n    conti = input (\"Deseja realizar outro pedido \").upper()\n    \n    if conti == \"SIM\" or conti == \"S\":\n        continuar = True\n    else:\n        continuar = False\nprint(cidades)\nprint(problemas)",
      "execution_count": 3,
      "outputs": [
        {
          "output_type": "stream",
          "name": "stdout",
          "text": "Digite corretamente o nome do seu município: serra\n"
        },
        {
          "output_type": "error",
          "ename": "NameError",
          "evalue": "name 'upper' is not defined",
          "traceback": [
            "\u001b[0;31m---------------------------------------------------------------------------\u001b[0m",
            "\u001b[0;31mNameError\u001b[0m                                 Traceback (most recent call last)",
            "\u001b[0;32m<ipython-input-3-efed271b994f>\u001b[0m in \u001b[0;36m<module>\u001b[0;34m\u001b[0m\n\u001b[1;32m      1\u001b[0m \u001b[0;32mwhile\u001b[0m \u001b[0mcontinuar\u001b[0m \u001b[0;34m==\u001b[0m \u001b[0;32mTrue\u001b[0m\u001b[0;34m:\u001b[0m\u001b[0;34m\u001b[0m\u001b[0m\n\u001b[1;32m      2\u001b[0m \u001b[0;34m\u001b[0m\u001b[0m\n\u001b[0;32m----> 3\u001b[0;31m     \u001b[0mmunicípio\u001b[0m \u001b[0;34m=\u001b[0m \u001b[0minput\u001b[0m\u001b[0;34m(\u001b[0m\u001b[0;34m\"Digite corretamente o nome do seu município: \"\u001b[0m\u001b[0;34m)\u001b[0m\u001b[0;34m,\u001b[0m\u001b[0mupper\u001b[0m\u001b[0;34m(\u001b[0m\u001b[0;34m)\u001b[0m\u001b[0;34m\u001b[0m\u001b[0m\n\u001b[0m\u001b[1;32m      4\u001b[0m     \u001b[0mendereço\u001b[0m \u001b[0;34m=\u001b[0m \u001b[0minput\u001b[0m\u001b[0;34m(\u001b[0m\u001b[0;34m\"Digite o local detalhado da reclamação? \"\u001b[0m\u001b[0;34m)\u001b[0m\u001b[0;34m\u001b[0m\u001b[0m\n\u001b[1;32m      5\u001b[0m     \u001b[0mproble\u001b[0m \u001b[0;34m=\u001b[0m \u001b[0minput\u001b[0m\u001b[0;34m(\u001b[0m\u001b[0;34m\"Qual o problema que lhe afeta nesse local? \"\u001b[0m\u001b[0;34m)\u001b[0m\u001b[0;34m\u001b[0m\u001b[0m\n",
            "\u001b[0;31mNameError\u001b[0m: name 'upper' is not defined"
          ]
        }
      ]
    },
    {
      "metadata": {
        "trusted": true
      },
      "cell_type": "code",
      "source": "indiceBairro = {\"1\": 'André Carlone', \"2\": 'Bairro das Laranjeiras', \"3\": 'Balneário de Carapebus', \"4\": 'Barcelona', \"5\": 'Central Carapina', \"6\": 'Cidade Pomar',\"7\": 'Cidade Continental', \"8\": 'Eldorado', \"9\": 'Feu Rosa', \"10\": 'Jardim Carapina', \"11\": 'Jardim Limoeiro', \"12\":'Jardim Tropical', \"13\": 'José de Anchieta', \"14\": 'Laranjeiras Velha', \"15\": 'Morada de Laranjeiras', \"16\": 'Nova Carapina I', \"17\": 'Nova Carapina II', \"18\": 'Novo Horizonte', \"19\": 'Novo Porto Canoa', \"20\": 'Parque Residencial de Laranjeiras', \"21\": 'Planalto Serrano', \"22\": 'Praia de Carapebus', \"23\": 'Santa Luzia', \"24\": 'Serra Dourada III', \"25\": 'Serra(demais setores)', \"26\": 'SerraDouradaII', \"27\": 'Taquara I', \"28\": 'Valparaíso', \"29\": 'Vila Nova de Colares', \"30\": 'Vista de Serra I'}\nbairroCont = {'André Carlone': 0, 'Bairro das Laranjeiras': 0, 'Balneário de Carapebus': 0, 'Barcelona': 0, 'Central Carapina': 0, 'Cidade Pomar': 0, 'Cidade Continental': 0, 'Eldorado': 0, 'Feu Rosa': 0, 'Jardim Carapina': 0, 'Jardim Limoeiro': 0, 'Jardim Tropical': 0, 'José de Anchieta': 0, 'Laranjeiras Velha': 0, 'Morada de Laranjeiras': 0, 'Nova Carapina I': 0, 'Nova Carapina II': 0, 'Novo Horizonte': 0, 'Novo Porto Canoa': 0, 'Parque Residencial de Laranjeiras': 0, 'Planalto Serrano': 0, 'Praia de Carapebus': 0, 'Santa Luzia': 0, 'Serra Dourada III': 0, 'Serra (demais setores)': 0, 'Serra Dourada II': 0, 'Taquara I': 0, 'Valparaíso': 0, 'Vila Nova de Colares': 0, 'Vista de Serra I': 0}\nAlfe = ['André Carlone', 'Bairro das Laranjeiras', 'Balneário de Carapebus', 'Barcelona', 'Central Carapina', 'Cidade Pomar', 'Cidade Continental', 'Eldorado', 'Feu Rosa', 'Jardim Carapina', 'Jardim Limoeiro', 'Jardim Tropical', 'José de Anchieta', 'Laranjeiras Velha', 'Morada de Laranjeiras', 'Nova Carapina I', 'Nova Carapina II', 'Novo Horizonte', 'Novo Porto Canoa', 'Parque Residencial de Laranjeiras', 'Planalto Serrano', 'Praia de Carapebus', 'Santa Luzia', 'Serra Dourada III', 'Serra (demais setores)', 'Serra Dourada II', 'Taquara I', 'Valparaíso', 'Vila Nova de Colares', 'Vista de Serra I']\n\ninicial = input(\"Digite a Letra Inicial do municipio: (sem acentos): \")\ninicial = inicial.upper()\nprint(inicial)\n\nfor i, k in indiceBairro.items():\n  if k[0] == inicial:\n    print(i,\"-\",k)\n\nescolha = int(input(\"Digite o numero do municipio: \")) -1\nv = Alfe[escolha]\n\nbairroCont[v] += 1\nprint(bairroCont)",
      "execution_count": 5,
      "outputs": [
        {
          "output_type": "stream",
          "name": "stdout",
          "text": "Digite a Letra Inicial do municipio: (sem acentos): C\nC\n5 - Central Carapina\n6 - Cidade Pomar\n7 - Cidade Continental\nDigite o numero do municipio: 5\n{'André Carlone': 0, 'Bairro das Laranjeiras': 0, 'Balneário de Carapebus': 0, 'Barcelona': 0, 'Central Carapina': 1, 'Cidade Pomar': 0, 'Cidade Continental': 0, 'Eldorado': 0, 'Feu Rosa': 0, 'Jardim Carapina': 0, 'Jardim Limoeiro': 0, 'Jardim Tropical': 0, 'José de Anchieta': 0, 'Laranjeiras Velha': 0, 'Morada de Laranjeiras': 0, 'Nova Carapina I': 0, 'Nova Carapina II': 0, 'Novo Horizonte': 0, 'Novo Porto Canoa': 0, 'Parque Residencial de Laranjeiras': 0, 'Planalto Serrano': 0, 'Praia de Carapebus': 0, 'Santa Luzia': 0, 'Serra Dourada III': 0, 'Serra (demais setores)': 0, 'Serra Dourada II': 0, 'Taquara I': 0, 'Valparaíso': 0, 'Vila Nova de Colares': 0, 'Vista de Serra I': 0}\n"
        }
      ]
    },
    {
      "metadata": {
        "trusted": true
      },
      "cell_type": "code",
      "source": "",
      "execution_count": null,
      "outputs": []
    }
  ],
  "metadata": {
    "kernelspec": {
      "name": "python36",
      "display_name": "Python 3.6",
      "language": "python"
    },
    "language_info": {
      "mimetype": "text/x-python",
      "nbconvert_exporter": "python",
      "name": "python",
      "pygments_lexer": "ipython3",
      "version": "3.6.6",
      "file_extension": ".py",
      "codemirror_mode": {
        "version": 3,
        "name": "ipython"
      }
    }
  },
  "nbformat": 4,
  "nbformat_minor": 2
}
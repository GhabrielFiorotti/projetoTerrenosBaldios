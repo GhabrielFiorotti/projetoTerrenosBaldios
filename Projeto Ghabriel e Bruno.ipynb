{
  "cells": [
    {
      "metadata": {},
      "cell_type": "markdown",
      "source": "# Problema dos terrenos baldios"
    },
    {
      "metadata": {
        "collapsed": true
      },
      "cell_type": "markdown",
      "source": "## Fase 1 do projeto: Modelagem do problema\nJuntando informações, e fazendo o levantamento das ideias propostas, chegamos a algumas conclusões. A partir de um brainstorming, conseguimos detectar alguns problemas. Dentre todas propostas, a que mais teve relevância foi a de melhoria dos bairros, no sentido de criar mecanismos para ajudar a comunidade a denunciar as irregularidades, lixos e endemias."
    },
    {
      "metadata": {
        "trusted": true
      },
      "cell_type": "markdown",
      "source": "### Nestas imagens há a representação de um terreno baldio que está abrigando tipo de lixos diversos."
    },
    {
      "metadata": {},
      "cell_type": "markdown",
      "source": "<img src='img1.jpg' width='200' weight='266'> "
    },
    {
      "metadata": {},
      "cell_type": "markdown",
      "source": "<img src='img2.jpg' width='200' weight='266'> "
    },
    {
      "metadata": {},
      "cell_type": "markdown",
      "source": "## Fase 2: Escopo do problema sobre terrenos baldios"
    },
    {
      "metadata": {},
      "cell_type": "markdown",
      "source": "Como solução a problemática proposta, apontamos a seguinte opção:\n* Um software que auxilia a comunidade local, no recolhimento de informaçõoes do terreno abandonado, tais como: envio de fotos, vídeos, localização geográfica e etc."
    },
    {
      "metadata": {
        "trusted": true
      },
      "cell_type": "markdown",
      "source": "## Fase 3: Identificação de formas de solucionar, e fase 4: Implementação"
    },
    {
      "metadata": {},
      "cell_type": "markdown",
      "source": "Primeiramente criamos um dicionário e uma lista para armazenar dados provenientes dos usuários"
    },
    {
      "metadata": {
        "trusted": true
      },
      "cell_type": "code",
      "source": "cadastro = {} \nproblemasGerais = []",
      "execution_count": null,
      "outputs": []
    },
    {
      "metadata": {},
      "cell_type": "markdown",
      "source": "O próximo passo foi a criação de uma verificação se o usuário deseja realizar outro pedido ou não, e 3 diconários com as seguintes funções: identificação do bairro,contador para a quantidade de reclamações de cada bairro, e o nome deles para a filtração."
    },
    {
      "metadata": {
        "trusted": true
      },
      "cell_type": "code",
      "source": "continuar = True\n\nindiceBairro = {\"1\": 'André Carlone', \"2\": 'Bairro das Laranjeiras', \"3\": 'Balneário de Carapebus', \"4\": 'Barcelona', \"5\": 'Central Carapina', \"6\": 'Cidade Pomar',\"7\": 'Cidade Continental', \"8\": 'Eldorado', \"9\": 'Feu Rosa', \"10\": 'Jardim Carapina', \"11\": 'Jardim Limoeiro', \"12\":'Jardim Tropical', \"13\": 'José de Anchieta', \"14\": 'Laranjeiras Velha', \"15\": 'Morada de Laranjeiras', \"16\": 'Nova Carapina I', \"17\": 'Nova Carapina II', \"18\": 'Novo Horizonte', \"19\": 'Novo Porto Canoa', \"20\": 'Parque Residencial de Laranjeiras', \"21\": 'Planalto Serrano', \"22\": 'Praia de Carapebus', \"23\": 'Santa Luzia', \"24\": 'Serra Dourada III', \"25\": 'Serra(demais setores)', \"26\": 'SerraDouradaII', \"27\": 'Taquara I', \"28\": 'Valparaíso', \"29\": 'Vila Nova de Colares', \"30\": 'Vista de Serra I'}\nbairroCont = {'André Carlone': 0, 'Bairro das Laranjeiras': 0, 'Balneário de Carapebus': 0, 'Barcelona': 0, 'Central Carapina': 0, 'Cidade Pomar': 0, 'Cidade Continental': 0, 'Eldorado': 0, 'Feu Rosa': 0, 'Jardim Carapina': 0, 'Jardim Limoeiro': 0, 'Jardim Tropical': 0, 'José de Anchieta': 0, 'Laranjeiras Velha': 0, 'Morada de Laranjeiras': 0, 'Nova Carapina I': 0, 'Nova Carapina II': 0, 'Novo Horizonte': 0, 'Novo Porto Canoa': 0, 'Parque Residencial de Laranjeiras': 0, 'Planalto Serrano': 0, 'Praia de Carapebus': 0, 'Santa Luzia': 0, 'Serra Dourada III': 0, 'Serra (demais setores)': 0, 'Serra Dourada II': 0, 'Taquara I': 0, 'Valparaíso': 0, 'Vila Nova de Colares': 0, 'Vista de Serra I': 0}\nAlfe = ['André Carlone', 'Bairro das Laranjeiras', 'Balneário de Carapebus', 'Barcelona', 'Central Carapina', 'Cidade Pomar', 'Cidade Continental', 'Eldorado', 'Feu Rosa', 'Jardim Carapina', 'Jardim Limoeiro', 'Jardim Tropical', 'José de Anchieta', 'Laranjeiras Velha', 'Morada de Laranjeiras', 'Nova Carapina I', 'Nova Carapina II', 'Novo Horizonte', 'Novo Porto Canoa', 'Parque Residencial de Laranjeiras', 'Planalto Serrano', 'Praia de Carapebus', 'Santa Luzia', 'Serra Dourada III', 'Serra (demais setores)', 'Serra Dourada II', 'Taquara I', 'Valparaíso', 'Vila Nova de Colares', 'Vista de Serra I']\n",
      "execution_count": null,
      "outputs": []
    },
    {
      "metadata": {},
      "cell_type": "markdown",
      "source": "Com objetivo de realizar vários pedidos, foi criado um While para a verificação se o usuário quer continuar com outro pedido não. Dentro do while foi indentado o cadastro do usuário, ou seja, foi pedido para digitar o nome, o bairro de acordo com o filtro digitando a primeira letra dele, o nome da rua correspondente ao terreno baldio, o problema que afeta o morador nessa região, e a pergunta se o cadastrado possui ou não fotos do terreno baldio. Depois que o usuário adiciona todos os requisitos, começa a etapa de adicionar os dados no dicionário e na lista problemas gerais: problemas, rua e imagem vão para o dicionário sendo valores, sendo que a chave é o nome do usuário. Foi utilizado os problemas para ser adicionado nos problemas gerais, para demosntrar à prefeitura os pedidos mais ocorridos. E por última característica do while, foi perguntado se o usuário realizaria ou não outro pedido."
    },
    {
      "metadata": {
        "trusted": true,
        "scrolled": true
      },
      "cell_type": "code",
      "source": "while continuar == True:\n    nome = input (\"Digite seu nome: \")\n    \n    inicial = input(\"Digite a letra inicial do bairro(sem acento) onde se encontra o terreno baldio, com o intuito de fazermos uma média em relação ao número de reclamações da sua região: \").upper()\n    for i, k in indiceBairro.items():\n      if k[0] == inicial:\n        print(i,\"-\",k)\n    escolha = int(input(\"Digite o número correspondente ao seu bairro: \")) -1\n    \n    v = Alfe[escolha]\n    bairroCont[v] += 1\n\n    rua = input(\"Digite o nome da rua onde está localizado o terreno baldio: \")\n    proble = input(\"Qual o problema que o terreno baldio apresenta, ex: Lixo acumulado, Falta de limpeza no local: \")\n    perguntaImagem = input (\"Como comprovação, pode mandar o link de fotos e/ou vídeos do local? Sim ou não?\").upper()\n    \n    if perguntaImagem == 'SIM' or perguntaImagem =='S':\n        imagem = input (\"Cole o link aqui\")\n    else:\n        imagem = \"Link da imagem não inserido\"\n        \n    cadastro[nome] = [rua, proble, imagem]\n    problemasGerais.append(proble)\n    \n    conti = input (\"Deseja realizar outro pedido? Sim ou não?\").upper()\n    \n    if conti == \"SIM\" or conti == \"S\":\n        continuar = True\n    else:\n        continuar = False",
      "execution_count": null,
      "outputs": []
    },
    {
      "metadata": {},
      "cell_type": "markdown",
      "source": "Como método de demonstrar o pedido, os problemas gerais e a quantidade de pedidos em cada bairro para a prefeitura, utilizamos o \"print\"  para isso. "
    },
    {
      "metadata": {
        "trusted": true
      },
      "cell_type": "code",
      "source": "print(\"-\"*132)\nprint(\"Contador de pedido de cada região:\\n\")\nprint(bairroCont)\nprint(\"-\"*132)\nprint(\"Todos os problemas cadastrados:  \",problemasGerais)\nprint(\"-\"*132)\nprint (\"Cadastro dos usuários:  \", cadastro)",
      "execution_count": 5,
      "outputs": [
        {
          "output_type": "stream",
          "text": "------------------------------------------------------------------------------------------------------------------------------------\nContador de pedido de cada região:\n\n{'André Carlone': 0, 'Bairro das Laranjeiras': 0, 'Balneário de Carapebus': 0, 'Barcelona': 0, 'Central Carapina': 0, 'Cidade Pomar': 0, 'Cidade Continental': 0, 'Eldorado': 0, 'Feu Rosa': 0, 'Jardim Carapina': 0, 'Jardim Limoeiro': 0, 'Jardim Tropical': 0, 'José de Anchieta': 0, 'Laranjeiras Velha': 0, 'Morada de Laranjeiras': 1, 'Nova Carapina I': 0, 'Nova Carapina II': 0, 'Novo Horizonte': 0, 'Novo Porto Canoa': 0, 'Parque Residencial de Laranjeiras': 0, 'Planalto Serrano': 0, 'Praia de Carapebus': 0, 'Santa Luzia': 1, 'Serra Dourada III': 0, 'Serra (demais setores)': 0, 'Serra Dourada II': 0, 'Taquara I': 0, 'Valparaíso': 0, 'Vila Nova de Colares': 0, 'Vista de Serra I': 0}\n------------------------------------------------------------------------------------------------------------------------------------\nTodos os problemas cadastrados:   ['Pneus jogado ao ar livre', 'Lixo acumulado.']\n------------------------------------------------------------------------------------------------------------------------------------\nCadastro dos usuários:   {'Ghabriel': ['Rua dos Ipês', 'Pneus jogado ao ar livre', 'https://images.app.goo.gl/YgUWQVsiZC96VfoB7'], 'Bruno': ['Rua dos bem te vis', 'Lixo acumulado.', 'Link da imagem não inserido']}\n",
          "name": "stdout"
        }
      ]
    },
    {
      "metadata": {},
      "cell_type": "markdown",
      "source": "## Fase 5: Validação e fechamento"
    },
    {
      "metadata": {},
      "cell_type": "markdown",
      "source": "Portanto, esse projeto tem como função auxiliar a prefeitura a receber reclamações sobre os terrenos baldios, facilitando o usuário de fazer o seu pedido."
    }
  ],
  "metadata": {
    "kernelspec": {
      "name": "python36",
      "display_name": "Python 3.6",
      "language": "python"
    },
    "language_info": {
      "mimetype": "text/x-python",
      "nbconvert_exporter": "python",
      "name": "python",
      "pygments_lexer": "ipython3",
      "version": "3.6.6",
      "file_extension": ".py",
      "codemirror_mode": {
        "version": 3,
        "name": "ipython"
      }
    }
  },
  "nbformat": 4,
  "nbformat_minor": 2
}
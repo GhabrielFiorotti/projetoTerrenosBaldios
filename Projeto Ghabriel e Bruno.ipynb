{
  "cells": [
    {
      "metadata": {},
      "cell_type": "markdown",
      "source": "# Problema dos terrenos baldios"
    },
    {
      "metadata": {
        "collapsed": true
      },
      "cell_type": "markdown",
      "source": "## Fase 1 do projeto: Modelagem do problema\nJuntando informações, e fazendo o levantamento das ideias propostas, chegamos a algumas conclusões. A partir de um brainstorming, conseguimos detectar alguns problemas. Dentre todas propostas, a que mais teve relevância foi a de melhoria dos bairros, no sentido de criar mecanismos para ajudar a comunidade a denunciar as irregularidades, lixos e endemias."
    },
    {
      "metadata": {
        "trusted": true
      },
      "cell_type": "markdown",
      "source": "### Nestas imagens há a representação de um terreno baldio que está abrigando tipo de lixos diversos."
    },
    {
      "metadata": {},
      "cell_type": "markdown",
      "source": "<img src='img1.jpg' width='200' weight='266'> "
    },
    {
      "metadata": {},
      "cell_type": "markdown",
      "source": "<img src='img2.jpg' width='200' weight='266'> "
    },
    {
      "metadata": {},
      "cell_type": "markdown",
      "source": "## Fase 2: Escopo do problema sobre terrenos baldios"
    },
    {
      "metadata": {},
      "cell_type": "markdown",
      "source": "Como solução a problemática proposta, apontamos a seguinte opção:\n* Um software que auxilia a comunidade local, no recolhimento de informaçõoes do terreno abandonado, tais como: envio de fotos, vídeos, localização geográfica e etc."
    },
    {
      "metadata": {
        "trusted": true
      },
      "cell_type": "markdown",
      "source": "## Fase 3: Identificação de formas de solucionar"
    },
    {
      "metadata": {},
      "cell_type": "markdown",
      "source": "#### Primeiramente criamos um dicionário e uma lista para armazenar dados provenientes dos usuários"
    },
    {
      "metadata": {
        "trusted": true
      },
      "cell_type": "code",
      "source": "dic = {} \n\nproblemas = []",
      "execution_count": 26,
      "outputs": []
    },
    {
      "metadata": {},
      "cell_type": "markdown",
      "source": "#### O próximo passo foi a criação de uma verificação se o usuário deseja realizar outro pedido ou não, e um diconário das cidades do Espírito Santo com o seguinte contador  de pedidos."
    },
    {
      "metadata": {
        "trusted": true
      },
      "cell_type": "code",
      "source": "continuar = True\n\ncidades = {'Serra':0,'Vitória':0, 'Colatina':0, 'Linhares':0, 'Vila Velha':0, 'Viana':0, 'Cariacica':0, 'Água Doce do Norte':0, 'Águia Branca':0, 'Aracruz':0, 'Baixo Guandu':0, 'Barra de São Franscisco': 0,'Boa Esperança':0, 'Boa Esperança':0, 'Conceição da Barra':0, 'Ecoporanga':0, 'Fundão':0, 'Governador Lindemberg':0, 'Ibiraçu':0, 'Itaguaçu':0, 'Itarana':0, 'Jaguaré':0, 'João Neiva':0, 'Laranja da Terra':0, 'Linhares':0, 'Mantenópolis':0, 'Marilândia':0, 'Montanha':0, 'Mucurici':0, 'Nova Venécia':0, 'Pancas':0, 'Pedro Canário':0, 'Pinheiros':0,'Ponto Belo':0, 'Rio Bananal':0, 'Santa Teresa':0, 'São Domingos do Norte':0, 'São Gabriel da Palha':0, 'São Matheus':0, 'São Roque do Canaã':0, 'Sooretama':0, 'Vila Pavão':0, 'Vila Valério':0, 'Afonso Cláudio':0, 'Alegre':0, 'Alfredo Chaves':0, 'Alto Rio Novo':0, 'Anchieta':0, 'Apiacá':0, 'Atílio Vivacqua':0, 'Bom Jesus do Norte':0, 'Brejetuba':0, 'Cachoeirodo Itapemerim':0, 'Castelo':0, 'Conceição do Castelo':0, 'Divino São Lourenço':0, 'Domingos Martins':0, 'Dores do Rio Preto':0, 'Guaçuí':0, 'Guarapari':0, 'Ibatiba':0, 'Ibitirama':0, 'Iconha':0, 'Irupi':0, 'Itapemerim':0, 'Iuna':0, 'Jerônimo Monteiro':0, 'Marataízes':0, 'Marechal Floriano':0, 'Mimoso do Sul':0, 'Muniz Freire':0, 'Muqui':0, 'Piúma':0, 'Presidente Kenedy':0, 'Rio Novo do Sul':0, 'Santa Leopoldina':0, 'Santa Maria de Jetibá':0, 'São José do Calçado':0, 'Vargem Alta':0, 'Venda Nova do Imigrante':0}\n",
      "execution_count": 27,
      "outputs": []
    },
    {
      "metadata": {
        "trusted": true
      },
      "cell_type": "code",
      "source": "",
      "execution_count": null,
      "outputs": []
    },
    {
      "metadata": {
        "trusted": true
      },
      "cell_type": "code",
      "source": "while continuar == True:\n\n    município = input(\"Digite corretamente o nome do seu município: \")\n    endereço = input(\"Digite o local detalhado da reclamação? \")\n    proble = input(\"Qual o problema que lhe afeta nesse local? \")\n    imagem = input (\"Como referência, possui algum arquivo em formato de imagem ou vídeo para anexar? \").upper()\n    \n    problemas.append(proble)\n    cidades[município] +=1\n    dic[endereço]= proble\n\n    conti = input (\"Deseja realizar outro pedido \").upper()\n    \n    if conti == \"SIM\" or conti == \"S\":\n        continuar = True\n    else:\n        continuar = False\nprint(cidades)\nprint(problemas)",
      "execution_count": 28,
      "outputs": [
        {
          "output_type": "stream",
          "name": "stdout",
          "text": "Digite corretamente o nome do seu município: Serra\nDigite o local detalhado da reclamação? Laranjeiras - Serra\nQual o problema que lhe afeta nesse local? Lixo\nComo referência, possui algum arquivo em formato de imagem ou vídeo para anexar? Não\nDeseja realizar outro pedido Não\n{'Serra': 1, 'Vitória': 0, 'Colatina': 0, 'Linhares': 0, 'Vila Velha': 0, 'Viana': 0, 'Cariacica': 0, 'Água Doce do Norte': 0, 'Águia Branca': 0, 'Aracruz': 0, 'Baixo Guandu': 0, 'Barra de São Franscisco': 0, 'Boa Esperança': 0, 'Conceição da Barra': 0, 'Ecoporanga': 0, 'Fundão': 0, 'Governador Lindemberg': 0, 'Ibiraçu': 0, 'Itaguaçu': 0, 'Itarana': 0, 'Jaguaré': 0, 'João Neiva': 0, 'Laranja da Terra': 0, 'Mantenópolis': 0, 'Marilândia': 0, 'Montanha': 0, 'Mucurici': 0, 'Nova Venécia': 0, 'Pancas': 0, 'Pedro Canário': 0, 'Pinheiros': 0, 'Ponto Belo': 0, 'Rio Bananal': 0, 'Santa Teresa': 0, 'São Domingos do Norte': 0, 'São Gabriel da Palha': 0, 'São Matheus': 0, 'São Roque do Canaã': 0, 'Sooretama': 0, 'Vila Pavão': 0, 'Vila Valério': 0, 'Afonso Cláudio': 0, 'Alegre': 0, 'Alfredo Chaves': 0, 'Alto Rio Novo': 0, 'Anchieta': 0, 'Apiacá': 0, 'Atílio Vivacqua': 0, 'Bom Jesus do Norte': 0, 'Brejetuba': 0, 'Cachoeirodo Itapemerim': 0, 'Castelo': 0, 'Conceição do Castelo': 0, 'Divino São Lourenço': 0, 'Domingos Martins': 0, 'Dores do Rio Preto': 0, 'Guaçuí': 0, 'Guarapari': 0, 'Ibatiba': 0, 'Ibitirama': 0, 'Iconha': 0, 'Irupi': 0, 'Itapemerim': 0, 'Iuna': 0, 'Jerônimo Monteiro': 0, 'Marataízes': 0, 'Marechal Floriano': 0, 'Mimoso do Sul': 0, 'Muniz Freire': 0, 'Muqui': 0, 'Piúma': 0, 'Presidente Kenedy': 0, 'Rio Novo do Sul': 0, 'Santa Leopoldina': 0, 'Santa Maria de Jetibá': 0, 'São José do Calçado': 0, 'Vargem Alta': 0, 'Venda Nova do Imigrante': 0}\n['Lixo']\n"
        }
      ]
    },
    {
      "metadata": {
        "trusted": true
      },
      "cell_type": "code",
      "source": "",
      "execution_count": null,
      "outputs": []
    }
  ],
  "metadata": {
    "kernelspec": {
      "name": "python36",
      "display_name": "Python 3.6",
      "language": "python"
    },
    "language_info": {
      "mimetype": "text/x-python",
      "nbconvert_exporter": "python",
      "name": "python",
      "pygments_lexer": "ipython3",
      "version": "3.6.6",
      "file_extension": ".py",
      "codemirror_mode": {
        "version": 3,
        "name": "ipython"
      }
    }
  },
  "nbformat": 4,
  "nbformat_minor": 2
}